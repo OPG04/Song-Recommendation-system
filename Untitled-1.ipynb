{
 "cells": [
  {
   "cell_type": "code",
   "execution_count": null,
   "id": "f255609f",
   "metadata": {},
   "outputs": [],
   "source": [
    "import pandas as pd\n",
    "from matplotlib import pyplot as plt\n",
    "import seaborn as sns\n",
    "import numpy as np"
   ]
  },
  {
   "cell_type": "code",
   "execution_count": null,
   "id": "a0105abf",
   "metadata": {},
   "outputs": [],
   "source": [
    "df = pd.read_csv(\"personalized_music_recommendation_dataset.csv\")\n",
    "df.head(10)"
   ]
  },
  {
   "cell_type": "code",
   "execution_count": null,
   "id": "24872dd4",
   "metadata": {},
   "outputs": [],
   "source": [
    "df.info()"
   ]
  },
  {
   "cell_type": "code",
   "execution_count": null,
   "id": "333d8c31",
   "metadata": {},
   "outputs": [],
   "source": [
    "df.describe()"
   ]
  },
  {
   "cell_type": "code",
   "execution_count": null,
   "id": "f57b3297",
   "metadata": {
    "vscode": {
     "languageId": "markdown"
    }
   },
   "outputs": [],
   "source": [
    "numeric_features = df.select_dtypes(include=['float64', 'int64']).columns\n",
    "df[numeric_features].hist(bins=15, figsize=(15, 15))\n",
    "plt.show()"
   ]
  },
  {
   "cell_type": "code",
   "execution_count": null,
   "id": "f99c9fe3",
   "metadata": {},
   "outputs": [],
   "source": [
    "numeric_df = df.select_dtypes(include=[float, int])\n",
    "\n",
    "plt.figure(figsize=(20, 15))\n",
    "sns.heatmap(numeric_df.corr(), annot=True, fmt='.2f', cmap='coolwarm')\n",
    "plt.title('Correlation Heatmap')\n",
    "plt.show()"
   ]
  },
  {
   "cell_type": "code",
   "execution_count": null,
   "id": "e42fe155",
   "metadata": {},
   "outputs": [],
   "source": [
    "plt.figure(figsize=(10, 2))\n",
    "sns.countplot(y='context_type', data=df, order=df['context_type'].value_counts().index)\n",
    "plt.title('Context Distribution')\n",
    "plt.show()"
   ]
  },
  {
   "cell_type": "code",
   "execution_count": null,
   "id": "ea572451",
   "metadata": {},
   "outputs": [],
   "source": [
    "plt.figure(figsize=(10, 2))\n",
    "sns.countplot(y='genre', data=df, order=df['genre'].value_counts().index)\n",
    "plt.title('Genre Distribution')\n",
    "plt.show()"
   ]
  },
  {
   "cell_type": "code",
   "execution_count": null,
   "id": "d9ffb5f3",
   "metadata": {},
   "outputs": [],
   "source": [
    "plt.figure(figsize=(10, 2))\n",
    "sns.countplot(y='artist', data=df, order=df['artist'].value_counts().index)\n",
    "plt.title('Artist Distribution')\n",
    "plt.show()"
   ]
  },
  {
   "cell_type": "code",
   "execution_count": null,
   "id": "0f9d342f",
   "metadata": {},
   "outputs": [],
   "source": [
    "plt.figure(figsize=(10, 1))\n",
    "sns.countplot(y='subscription_type', data=df, order=df['subscription_type'].value_counts().index)\n",
    "plt.title('subscription_type Distribution')\n",
    "plt.show()"
   ]
  },
  {
   "cell_type": "code",
   "execution_count": null,
   "id": "500c6314",
   "metadata": {},
   "outputs": [],
   "source": [
    "df[\"timestamp\"]"
   ]
  },
  {
   "cell_type": "code",
   "execution_count": null,
   "id": "e0f745ab",
   "metadata": {},
   "outputs": [],
   "source": [
    "df['timestamp_parsed'] = pd.to_datetime(df['timestamp'], errors='coerce')  # parsed copy"
   ]
  },
  {
   "cell_type": "code",
   "execution_count": null,
   "id": "f04d1d73",
   "metadata": {},
   "outputs": [],
   "source": [
    "df['hour_of_day'] = df['timestamp_parsed'].dt.hour + df['timestamp_parsed'].dt.minute/60.0 + df['timestamp_parsed'].dt.second/3600.0\n",
    "df['day_of_week'] = df['timestamp_parsed'].dt.weekday            # 0=Mon .. 6=Sun\n",
    "df['is_weekend'] = df['day_of_week'].isin([5,6]).astype(int)\n",
    "df['month'] = df['timestamp_parsed'].dt.month\n",
    "df['minutes_since_midnight'] = df['timestamp_parsed'].dt.hour*60 + df['timestamp_parsed'].dt.minute\n"
   ]
  },
  {
   "cell_type": "code",
   "execution_count": null,
   "id": "a76a22f6",
   "metadata": {},
   "outputs": [],
   "source": [
    "df.info()"
   ]
  },
  {
   "cell_type": "code",
   "execution_count": null,
   "id": "00be81c4",
   "metadata": {},
   "outputs": [],
   "source": [
    "df['time_rad'] = (df['hour_of_day'] / 24.0) * 2 * np.pi\n",
    "df['time_sin'] = np.sin(df['time_rad'])\n",
    "df['time_cos'] = np.cos(df['time_rad'])\n",
    "df.drop(columns=['time_rad'], inplace=True)"
   ]
  },
  {
   "cell_type": "code",
   "execution_count": null,
   "id": "47e6756f",
   "metadata": {},
   "outputs": [],
   "source": [
    "df = df.sort_values(['user_id', 'timestamp_parsed']).reset_index(drop=True)\n",
    "df['prev_ts'] = df.groupby('user_id')['timestamp_parsed'].shift(1)\n",
    "df['time_since_prev_secs'] = (df['timestamp_parsed'] - df['prev_ts']).dt.total_seconds()\n",
    "df['time_since_prev_secs'] = df['time_since_prev_secs'].fillna(-1)  # -1 indicates first interaction\n",
    "df.drop(columns=['prev_ts'], inplace=True)"
   ]
  },
  {
   "cell_type": "code",
   "execution_count": null,
   "id": "942eb1b4",
   "metadata": {},
   "outputs": [],
   "source": [
    "SESSION_GAP_SECS = 30 * 60 "
   ]
  },
  {
   "cell_type": "code",
   "execution_count": null,
   "id": "839753c2",
   "metadata": {},
   "outputs": [],
   "source": [
    "df = df.sort_values(['user_id', 'timestamp_parsed']).reset_index(drop=True)\n",
    "df['gap_flag'] = (df['time_since_prev_secs'] > SESSION_GAP_SECS).astype(int)\n",
    "df['session_id'] = df.groupby('user_id')['gap_flag'].cumsum().astype(int)\n",
    "df['session_uid'] = df['user_id'].astype(str) + \"_sess_\" + df['session_id'].astype(str)\n",
    "df['is_new_session'] = df['gap_flag'] == 1\n",
    "df.drop(columns=['gap_flag'], inplace=True)"
   ]
  },
  {
   "cell_type": "code",
   "execution_count": null,
   "id": "88882f54",
   "metadata": {},
   "outputs": [],
   "source": [
    "df['plays_last_24h'] = 0\n",
    "window = pd.Timedelta('24 hours')\n",
    "# efficient approach per user\n",
    "for uid, g in df.groupby('user_id'):\n",
    "    g = g.sort_values('timestamp_parsed')\n",
    "    ts = g['timestamp_parsed'].reset_index(drop=True)\n",
    "    counts = []\n",
    "    left = 0\n",
    "    for i, t in enumerate(ts):\n",
    "        while left < i and (t - ts[left]) > window:\n",
    "            left += 1\n",
    "        counts.append(i - left)  # number of prior plays in the 24h window\n",
    "    df.loc[g.index, 'plays_last_24h'] = counts"
   ]
  },
  {
   "cell_type": "code",
   "execution_count": null,
   "id": "b3f65333",
   "metadata": {},
   "outputs": [],
   "source": [
    "user_like_rate = df.groupby('user_id')['liked'].mean().rename('user_like_rate')\n",
    "df = df.merge(user_like_rate, on='user_id', how='left')"
   ]
  },
  {
   "cell_type": "code",
   "execution_count": null,
   "id": "4096c7f3",
   "metadata": {},
   "outputs": [],
   "source": [
    "song_global_like = df.groupby('song_id')['liked'].mean().rename('song_global_like')\n",
    "df = df.merge(song_global_like, on='song_id', how='left')"
   ]
  },
  {
   "cell_type": "code",
   "execution_count": null,
   "id": "faecf0c1",
   "metadata": {},
   "outputs": [],
   "source": [
    "song_play_count = df.groupby('song_id')['play_count'].sum().rename('song_play_count')\n",
    "df = df.merge(song_play_count, on='song_id', how='left')"
   ]
  },
  {
   "cell_type": "code",
   "execution_count": null,
   "id": "295fb8e9",
   "metadata": {},
   "outputs": [],
   "source": [
    "avg_listen = df.groupby('user_id')['listening_time_mins'].mean().rename('avg_listening_time_user')\n",
    "df = df.merge(avg_listen, on='user_id', how='left')"
   ]
  },
  {
   "cell_type": "code",
   "execution_count": null,
   "id": "11d66aec",
   "metadata": {},
   "outputs": [],
   "source": [
    "df['is_repeat'] = (df['repeat_count'] > 1).astype(int)"
   ]
  },
  {
   "cell_type": "code",
   "execution_count": null,
   "id": "5c21a7cc",
   "metadata": {},
   "outputs": [],
   "source": [
    "display(df.head(5))"
   ]
  },
  {
   "cell_type": "code",
   "execution_count": null,
   "id": "1c05a028",
   "metadata": {},
   "outputs": [],
   "source": [
    "plt.figure(figsize=(2,4))\n",
    "sns.countplot(x='liked', data=df)\n",
    "plt.title('Target distribution: liked (0 vs 1)')\n",
    "plt.show()\n",
    "print(\"Liked distribution (normalized):\")\n",
    "print(df['liked'].value_counts(normalize=True))"
   ]
  },
  {
   "cell_type": "code",
   "execution_count": null,
   "id": "0606b6b1",
   "metadata": {},
   "outputs": [],
   "source": [
    "numeric_cols = df.select_dtypes(include=['float64','int64']).columns.tolist()"
   ]
  },
  {
   "cell_type": "code",
   "execution_count": null,
   "id": "76c137ff",
   "metadata": {},
   "outputs": [],
   "source": [
    "corr_with_target = df[numeric_cols].corr()['liked'].drop('liked').sort_values(key=lambda x: x.abs(), ascending=False)\n",
    "print(\"\\nNumeric features correlation with 'liked' (abs-sorted):\")\n",
    "# display(corr_with_target.to_frame(name='corr_with_liked').round(3))\n",
    "\n",
    "# create heatmap visualization\n",
    "plt.figure(figsize=(25,2))\n",
    "sns.heatmap(\n",
    "    corr_with_target.to_frame().T, \n",
    "    annot=True, \n",
    "    cmap='coolwarm', \n",
    "    fmt='.2f', \n",
    "    cbar=False,\n",
    "    linewidths=0.5\n",
    ")\n",
    "plt.title(\"Correlation of Numeric Features with Target ('liked')\")\n",
    "plt.yticks(rotation=0)\n",
    "plt.xticks(rotation=45, ha='right')\n",
    "plt.show()"
   ]
  },
  {
   "cell_type": "code",
   "execution_count": null,
   "id": "8b3fecee",
   "metadata": {},
   "outputs": [],
   "source": [
    "print(\"\\nTop 10 songs by occurrence:\")\n",
    "display(df['song_id'].value_counts().head(10))"
   ]
  },
  {
   "cell_type": "code",
   "execution_count": null,
   "id": "ce57e9f9",
   "metadata": {},
   "outputs": [],
   "source": [
    "print(\"\\nTop 10 most active users:\")\n",
    "display(df['user_id'].value_counts().head(10))"
   ]
  },
  {
   "cell_type": "code",
   "execution_count": null,
   "id": "a74140d0",
   "metadata": {},
   "outputs": [],
   "source": [
    "audio_feats = [f for f in ['energy','danceability','valence','acousticness','loudness'] if f in df.columns]\n"
   ]
  },
  {
   "cell_type": "code",
   "execution_count": null,
   "id": "2895dab3",
   "metadata": {},
   "outputs": [],
   "source": [
    "sample_n = min(1000, len(df))\n",
    "sample_for_plot = df[audio_feats + (['liked'] if 'liked' in df.columns else [])].sample(n=sample_n, random_state=1)\n",
    "sns.pairplot(sample_for_plot, vars=audio_feats, hue='liked' if 'liked' in sample_for_plot.columns else None, plot_kws={'alpha':0.4})\n",
    "plt.suptitle('Pairplot of audio features (sampled)', y=1.02)\n",
    "plt.show()"
   ]
  },
  {
   "cell_type": "code",
   "execution_count": null,
   "id": "5632c101",
   "metadata": {},
   "outputs": [],
   "source": [
    "print(\"\\n=== Modeling & Evaluation ===\")\n",
    "from sklearn.model_selection import train_test_split\n",
    "from sklearn.preprocessing import StandardScaler\n",
    "from sklearn.linear_model import LinearRegression, Ridge\n",
    "from sklearn.neighbors import KNeighborsClassifier\n",
    "from sklearn.metrics import mean_squared_error, r2_score, accuracy_score, confusion_matrix, classification_report\n",
    "# import joblib"
   ]
  },
  {
   "cell_type": "code",
   "execution_count": null,
   "id": "149b4b15",
   "metadata": {},
   "outputs": [],
   "source": [
    "candidate_features = [\n",
    "    'energy', 'danceability', 'valence', 'acousticness', 'loudness',\n",
    "    'tempo', 'duration_sec', 'popularity', 'recent_skip_rate',\n",
    "    'listening_time_mins', 'sessions_per_day',\n",
    "    'time_sin', 'time_cos', 'song_global_like', 'user_like_rate',\n",
    "    'avg_listening_time_user', 'song_play_count', 'is_repeat',\n",
    "    'time_since_prev_secs', 'plays_last_24h'\n",
    "]\n",
    "\n",
    "features = [c for c in candidate_features if c in df.columns]\n",
    "print(f\"Using {len(features)} features: {features}\")"
   ]
  },
  {
   "cell_type": "code",
   "execution_count": null,
   "id": "42d6e9c2",
   "metadata": {},
   "outputs": [],
   "source": [
    "target = 'liked'"
   ]
  },
  {
   "cell_type": "code",
   "execution_count": null,
   "id": "e268eb76",
   "metadata": {},
   "outputs": [],
   "source": [
    "df_model = df.copy()\n",
    "X = df_model[features]\n",
    "y = df_model[target]\n",
    "print(\"Dataset for modeling -> shape:\", X.shape)"
   ]
  },
  {
   "cell_type": "code",
   "execution_count": null,
   "id": "45b45d0b",
   "metadata": {},
   "outputs": [],
   "source": [
    "X_train, X_test, y_train, y_test = train_test_split(X, y, test_size=0.2, random_state=42, stratify=y)\n",
    "print(\"Train size:\", len(X_train), \"Test size:\", len(X_test))"
   ]
  },
  {
   "cell_type": "code",
   "execution_count": null,
   "id": "02bdc36d",
   "metadata": {},
   "outputs": [],
   "source": [
    "scaler = StandardScaler()\n",
    "X_train_scaled = scaler.fit_transform(X_train)\n",
    "X_test_scaled = scaler.transform(X_test)"
   ]
  },
  {
   "cell_type": "code",
   "execution_count": null,
   "id": "ba50c795",
   "metadata": {},
   "outputs": [],
   "source": [
    "song_popularity = df_model.groupby('song_id')['liked'].mean().sort_values(ascending=False)\n",
    "print(\"\\nTop 10 songs by average liked ratio (train subset):\")\n",
    "display(song_popularity.head(10))\n"
   ]
  },
  {
   "cell_type": "code",
   "execution_count": null,
   "id": "cfea50f6",
   "metadata": {},
   "outputs": [],
   "source": [
    "lr = LinearRegression()\n",
    "lr.fit(X_train_scaled, y_train)\n",
    "y_pred_lr = lr.predict(X_test_scaled)\n",
    "y_pred_lr_class = (y_pred_lr >= 0.5).astype(int)\n",
    "\n",
    "print(\"\\nLinear Regression Results:\")\n",
    "print(\"R^2:\", round(r2_score(y_test, y_pred_lr), 4))\n",
    "print(\"MSE:\", round(mean_squared_error(y_test, y_pred_lr), 4))\n",
    "print(\"Accuracy (threshold 0.5):\", round(accuracy_score(y_test, y_pred_lr_class), 4))\n",
    "print(\"Confusion matrix:\\n\", confusion_matrix(y_test, y_pred_lr_class))"
   ]
  },
  {
   "cell_type": "code",
   "execution_count": null,
   "id": "81803e06",
   "metadata": {},
   "outputs": [],
   "source": [
    "ridge = Ridge(alpha=1.0)\n",
    "ridge.fit(X_train_scaled, y_train)\n",
    "y_pred_ridge = ridge.predict(X_test_scaled)\n",
    "y_pred_ridge_class = (y_pred_ridge >= 0.5).astype(int)\n",
    "\n",
    "print(\"\\nRidge Regression Results:\")\n",
    "print(\"R^2:\", round(r2_score(y_test, y_pred_ridge), 4))\n",
    "print(\"MSE:\", round(mean_squared_error(y_test, y_pred_ridge), 4))\n",
    "print(\"Accuracy (threshold 0.5):\", round(accuracy_score(y_test, y_pred_ridge_class), 4))\n",
    "print(\"Confusion matrix:\\n\", confusion_matrix(y_test, y_pred_ridge_class))\n"
   ]
  },
  {
   "cell_type": "code",
   "execution_count": null,
   "id": "cd2b877f",
   "metadata": {},
   "outputs": [],
   "source": [
    "knn = KNeighborsClassifier(n_neighbors=7)\n",
    "knn.fit(X_train_scaled, y_train)\n",
    "y_pred_knn = knn.predict(X_test_scaled)\n",
    "\n",
    "print(\"\\nKNN Results:\")\n",
    "print(\"Accuracy:\", round(accuracy_score(y_test, y_pred_knn), 4))\n",
    "print(\"Confusion matrix:\\n\", confusion_matrix(y_test, y_pred_knn))\n",
    "print(\"\\nClassification report:\\n\", classification_report(y_test, y_pred_knn, zero_division=0))\n"
   ]
  },
  {
   "cell_type": "code",
   "execution_count": null,
   "id": "e6115b3d",
   "metadata": {},
   "outputs": [],
   "source": [
    "coeffs = ridge.coef_\n",
    "feat_importance = pd.DataFrame({'feature': features, 'coefficient': coeffs})\n",
    "feat_importance['abs_coef'] = feat_importance['coefficient'].abs()\n",
    "feat_importance = feat_importance.sort_values('abs_coef', ascending=False)\n",
    "\n",
    "plt.figure(figsize=(10, 6))\n",
    "sns.barplot(data=feat_importance, x='coefficient', y='feature')\n",
    "plt.title('Feature importance (Ridge coefficients)')\n",
    "plt.tight_layout()\n",
    "plt.show()\n",
    "print(\"\\nFeature importance (top rows):\")\n",
    "display(feat_importance[['feature', 'coefficient']].head(20).round(4))\n"
   ]
  },
  {
   "cell_type": "code",
   "execution_count": null,
   "id": "d14bd378",
   "metadata": {},
   "outputs": [],
   "source": [
    "results_summary = pd.DataFrame({\n",
    "    'Model': ['LinearRegression', 'Ridge', 'KNN'],\n",
    "    'R2': [\n",
    "        round(r2_score(y_test, y_pred_lr), 4),\n",
    "        round(r2_score(y_test, y_pred_ridge), 4),\n",
    "        np.nan\n",
    "    ],\n",
    "    'MSE': [\n",
    "        round(mean_squared_error(y_test, y_pred_lr), 4),\n",
    "        round(mean_squared_error(y_test, y_pred_ridge), 4),\n",
    "        np.nan\n",
    "    ],\n",
    "    'Accuracy': [\n",
    "        round(accuracy_score(y_test, y_pred_lr_class), 4),\n",
    "        round(accuracy_score(y_test, y_pred_ridge_class), 4),\n",
    "        round(accuracy_score(y_test, y_pred_knn), 4)\n",
    "    ]\n",
    "})\n",
    "print(\"\\nModel performance summary:\")\n",
    "display(results_summary)"
   ]
  },
  {
   "cell_type": "code",
   "execution_count": null,
   "id": "64b7ddb0",
   "metadata": {},
   "outputs": [],
   "source": [
    "# Import the SVM classifier\n",
    "from sklearn.svm import SVC\n",
    "X_train, X_test, y_train, y_test = train_test_split(X, y, test_size=0.8, random_state=42, stratify=y)\n",
    "scaler = StandardScaler()\n",
    "X_train_scaled = scaler.fit_transform(X_train)\n",
    "X_test_scaled = scaler.transform(X_test)\n",
    "\n",
    "# Create the SVM model. \n",
    "# 'rbf' is the default and a great choice for non-linear data.\n",
    "# C and gamma are important hyperparameters. C=1.0 is a reasonable default.\n",
    "svm = SVC(kernel='rbf', C=1.0, random_state=42)\n",
    "\n",
    "# Train the model on the scaled training data\n",
    "print(\"Training the SVM model... (this may take a moment)\")\n",
    "svm.fit(X_train_scaled, y_train)\n",
    "\n",
    "# Make predictions on the scaled test data\n",
    "y_pred_svm = svm.predict(X_test_scaled)\n",
    "\n",
    "# Evaluate the model's performance\n",
    "print(\"\\nSVM Classifier Results:\")\n",
    "print(\"Accuracy:\", round(accuracy_score(y_test, y_pred_svm), 4))\n",
    "print(\"Confusion matrix:\\n\", confusion_matrix(y_test, y_pred_svm))\n",
    "print(\"\\nClassification report:\\n\", classification_report(y_test, y_pred_svm, zero_division=0))"
   ]
  },
  {
   "cell_type": "code",
   "execution_count": null,
   "id": "d7736c67",
   "metadata": {},
   "outputs": [],
   "source": [
    "# (Make sure to run the SVM cell first!)\n",
    "\n",
    "results_summary = pd.DataFrame({\n",
    "    'Model': ['SVM'],\n",
    "    'Accuracy': [\n",
    "        round(accuracy_score(y_test, y_pred_svm), 4) # Add the SVM accuracy here\n",
    "    ]\n",
    "})\n",
    "\n",
    "print(\"\\nUpdated Model performance summary:\")\n",
    "display(results_summary.sort_values(by='Accuracy', ascending=False))\n",
    "\n",
    "# By running this, you will have a clear, direct comparison of how well the SVM performs against your previous models. Given the non-linear nature of your data, it's very likely that the SVM will outperform the linear and ridge regression models and will be competitive with, if not better than, the KNN."
   ]
  },
  {
   "cell_type": "code",
   "execution_count": null,
   "id": "26fb7872",
   "metadata": {},
   "outputs": [],
   "source": []
  }
 ],
 "metadata": {
  "kernelspec": {
   "display_name": "Python 3",
   "language": "python",
   "name": "python3"
  },
  "language_info": {
   "codemirror_mode": {
    "name": "ipython",
    "version": 3
   },
   "file_extension": ".py",
   "mimetype": "text/x-python",
   "name": "python",
   "nbconvert_exporter": "python",
   "pygments_lexer": "ipython3",
   "version": "3.13.1"
  }
 },
 "nbformat": 4,
 "nbformat_minor": 5
}
